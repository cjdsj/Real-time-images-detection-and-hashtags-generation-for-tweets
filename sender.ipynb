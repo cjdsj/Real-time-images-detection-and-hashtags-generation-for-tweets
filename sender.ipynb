{
 "cells": [
  {
   "cell_type": "markdown",
   "metadata": {
    "application/vnd.databricks.v1+cell": {
     "inputWidgets": {},
     "nuid": "175df520-d816-428a-9ac0-345c3c386d52",
     "showTitle": false,
     "title": ""
    }
   },
   "source": [
    "# This file stream data from twitter and send stream"
   ]
  },
  {
   "cell_type": "markdown",
   "metadata": {
    "application/vnd.databricks.v1+cell": {
     "inputWidgets": {},
     "nuid": "3384f0d0-8dc0-46d6-aaf8-62ee4db82b75",
     "showTitle": false,
     "title": ""
    }
   },
   "source": [
    "### import packages"
   ]
  },
  {
   "cell_type": "code",
   "execution_count": 0,
   "metadata": {
    "application/vnd.databricks.v1+cell": {
     "inputWidgets": {},
     "nuid": "64542c40-bce8-424d-8e69-53d417cae229",
     "showTitle": false,
     "title": ""
    }
   },
   "outputs": [],
   "source": [
    "import socket\n",
    "import sys\n",
    "import requests\n",
    "import json\n",
    "import time"
   ]
  },
  {
   "cell_type": "markdown",
   "metadata": {
    "application/vnd.databricks.v1+cell": {
     "inputWidgets": {},
     "nuid": "7a3123a6-4a86-421f-84e8-0c8aabf2996a",
     "showTitle": false,
     "title": ""
    }
   },
   "source": [
    "### replace with your bearer_token below"
   ]
  },
  {
   "cell_type": "code",
   "execution_count": 0,
   "metadata": {
    "application/vnd.databricks.v1+cell": {
     "inputWidgets": {},
     "nuid": "6c330bd6-1249-4e00-a76f-81907f85dd7a",
     "showTitle": false,
     "title": ""
    }
   },
   "outputs": [],
   "source": [
    "bearer_token = \"\""
   ]
  },
  {
   "cell_type": "markdown",
   "metadata": {
    "application/vnd.databricks.v1+cell": {
     "inputWidgets": {},
     "nuid": "bd8efe68-fd12-4ea6-8d70-5d52a9e90958",
     "showTitle": false,
     "title": ""
    }
   },
   "source": [
    "## Specify your parameters"
   ]
  },
  {
   "cell_type": "code",
   "execution_count": 0,
   "metadata": {
    "application/vnd.databricks.v1+cell": {
     "inputWidgets": {},
     "nuid": "cab8fe42-d433-413f-96ac-e5b76fe5b02e",
     "showTitle": false,
     "title": ""
    }
   },
   "outputs": [],
   "source": [
    "max_iter = 20   # total time to send sockets per window_size\n",
    "max_per_iter = 128 # max number of results to send per window_size\n",
    "window_size = 8 # window_size that allows socket to sleep while sending max_per_iter results"
   ]
  },
  {
   "cell_type": "code",
   "execution_count": 0,
   "metadata": {
    "application/vnd.databricks.v1+cell": {
     "inputWidgets": {},
     "nuid": "85354107-5e99-45a5-a354-58befa8d0ec2",
     "showTitle": false,
     "title": ""
    }
   },
   "outputs": [],
   "source": [
    "def create_headers(bearer_token):\n",
    "    '''\n",
    "        create request header for given bearer_token account\n",
    "        \n",
    "        #param:\n",
    "            bearer_token: (str) get your own at https://developer.twitter.com/en/portal/dashboard \n",
    "        \n",
    "        #return:\n",
    "            json format headers with authorized bearer_token\n",
    "    '''  \n",
    "    \n",
    "    headers = {\"Authorization\": \"Bearer {}\".format(bearer_token)}\n",
    "    \n",
    "    return headers\n",
    "        \n",
    "def set_rules(headers, bearer_token, rules):\n",
    "    '''\n",
    "        set stream rules for given bearer_token account\n",
    "        \n",
    "        #param:\n",
    "            headers: request header for twitter api \n",
    "            bearer_token: (str) get your own at https://developer.twitter.com/en/portal/dashboard \n",
    "            rules: (json) with rule value and corresponding tag (optional)\n",
    "            \n",
    "        #return: \n",
    "            None\n",
    "    '''  \n",
    "    \n",
    "    payload = {\"add\": rules}\n",
    "    response = requests.post(\n",
    "        \"https://api.twitter.com/2/tweets/search/stream/rules\",\n",
    "        headers=headers,\n",
    "        json=payload,\n",
    "    )\n",
    "    if response.status_code != 201:\n",
    "        raise Exception(\n",
    "            \"Cannot add rules (HTTP {}): {}\".format(response.status_code, response.text)\n",
    "        )\n",
    "    print('following rules have been set: ')\n",
    "    print(json.dumps(response.json()))\n",
    "    \n",
    "def get_rules(headers, bearer_token):\n",
    "    '''\n",
    "        get current stream rules for given bearer_token account\n",
    "        \n",
    "        #param:\n",
    "            headers: request header for twitter api \n",
    "            bearer_token: (str) get your own at https://developer.twitter.com/en/portal/dashboard \n",
    "            \n",
    "        #return:\n",
    "            json format rules that have been created on the given account\n",
    "    '''  \n",
    "    \n",
    "    response = requests.get(\n",
    "        \"https://api.twitter.com/2/tweets/search/stream/rules\", headers=headers\n",
    "    )\n",
    "    if response.status_code != 200:\n",
    "        raise Exception(\n",
    "            \"Cannot get rules (HTTP {}): {}\".format(response.status_code, response.text)\n",
    "        )\n",
    "    print('current stream rules: ')\n",
    "    print(json.dumps(response.json()))\n",
    "    \n",
    "    return response.json()\n",
    "\n",
    "def delete_all_rules(headers, bearer_token, rules):\n",
    "    '''\n",
    "        delete current stream rules for given bearer_token account\n",
    "        \n",
    "        #param:\n",
    "            headers: request header for twitter api \n",
    "            bearer_token: (str) get your own at https://developer.twitter.com/en/portal/dashboard \n",
    "            rules: (json) with rule value and corresponding tag (optional)\n",
    "            \n",
    "        #return:\n",
    "            None\n",
    "    '''    \n",
    "    \n",
    "    if rules is None or \"data\" not in rules:\n",
    "        return None\n",
    "\n",
    "    ids = list(map(lambda rule: rule[\"id\"], rules[\"data\"]))\n",
    "    payload = {\"delete\": {\"ids\": ids}}\n",
    "    response = requests.post(\n",
    "        \"https://api.twitter.com/2/tweets/search/stream/rules\",\n",
    "        headers=headers,\n",
    "        json=payload\n",
    "    )\n",
    "    if response.status_code != 200:\n",
    "        raise Exception(\n",
    "            \"Cannot delete rules (HTTP {}): {}\".format(\n",
    "                response.status_code, response.text\n",
    "            )\n",
    "        )\n",
    "    print(json.dumps(response.json()))\n",
    "\n",
    "def get_stream(headers, bearer_token, expansions, fields):\n",
    "    '''\n",
    "        streaming data from twitter with bearer_token\n",
    "        \n",
    "        #param:\n",
    "            headers: request header for twitter api \n",
    "            bearer_token: (str) get your own at https://developer.twitter.com/en/portal/dashboard \n",
    "            expansions: (str) attachment requirement\n",
    "            fields: (str) media fields requirement\n",
    "            save_to_disk: (bool) true for save to disk and false for not\n",
    "            save_path: (str) local path to save img\n",
    "            total: (int) total number of results to save \n",
    "        \n",
    "        #return:\n",
    "            None\n",
    "    '''\n",
    "        \n",
    "    data = []\n",
    "    response = requests.get(\n",
    "        \"https://api.twitter.com/2/tweets/search/stream\" + expansions + fields, headers=headers, stream=True,\n",
    "    )\n",
    "    print(response.status_code)\n",
    "    if response.status_code != 200:\n",
    "        raise Exception(\n",
    "            \"Cannot get stream (HTTP {}): {}\".format(\n",
    "                response.status_code, response.text\n",
    "            )\n",
    "        )\n",
    "    num = 0\n",
    "    \n",
    "    return response\n",
    "\n",
    "def send_tweets_to_spark(http_resp, tcp_connection):\n",
    "    count = 0\n",
    "    local_iter = 0\n",
    "\n",
    "    for line in http_resp.iter_lines():\n",
    "        try:\n",
    "            full_tweet = json.loads(line)\n",
    "            full_tweet['includes']['media']\n",
    "        except:\n",
    "            print('not media attached!')\n",
    "            continue\n",
    "        \n",
    "        for line in full_tweet['includes']['media']:\n",
    "            try:\n",
    "                print(\"Tweet media url: \" + line['url'])\n",
    "                print (\"------------------------------------------\")\n",
    "                tcp_connection.send((line['url'] + '\\n').encode('utf-8'))\n",
    "                count += 1\n",
    "                if count >= max_per_iter:\n",
    "                    time.sleep(window_size)\n",
    "                    count = 0\n",
    "                    local_iter += 1\n",
    "                    \n",
    "#                 print(count)\n",
    "            except:\n",
    "                e = sys.exc_info()[0]\n",
    "                print(\"Error: %s\" % e)\n",
    "                \n",
    "            if local_iter >= max_iter:\n",
    "                print('reach max iteration bound')\n",
    "                return"
   ]
  },
  {
   "cell_type": "code",
   "execution_count": 0,
   "metadata": {
    "application/vnd.databricks.v1+cell": {
     "inputWidgets": {},
     "nuid": "0826d5b2-acc8-4ef2-be0b-ea7640a78ab9",
     "showTitle": false,
     "title": ""
    }
   },
   "outputs": [],
   "source": [
    "media_fields = \"&media.fields=duration_ms,height,media_key,preview_image_url,public_metrics,type,url,width\"\n",
    "expansions = \"?expansions=attachments.media_keys\"\n",
    "\n",
    "# following rules search all tweets with a, e, i or o (suggested not changed)\n",
    "# search_rules = [{'value': 'a' + ' has:images',\n",
    "#                 'tag': 'a'},\n",
    "#                 {'value': 'e' + ' has:images',\n",
    "#                 'tag': 'e'},\n",
    "#                 {'value': 'i' + ' has:images',\n",
    "#                 'tag': 'i'},\n",
    "#                 {'value': 'o' + ' has:images',\n",
    "#                 'tag': 'o'}   \n",
    "#                 ]\n",
    "search_rules = [{'value': '(butterfly has:images)' + ' OR ' + '(cat has:images)' + ' OR (dogs has:images)',\n",
    "                'tag': 'a'},\n",
    "                {'value': '(dogs has:images) OR (elephant has:images) OR (hen has:images)',\n",
    "                'tag': 'e'},\n",
    "                {'value': '(horse has:images) OR (monkey has:images) OR (panda has:images)',\n",
    "                'tag': 'i'},\n",
    "                {'value': '(sheep has:images) OR (spider has:images) OR (squirrel has:images)',\n",
    "                'tag': 'o'}   \n",
    "                ]\n",
    "\n",
    "headers = create_headers(bearer_token)\n",
    "# if the search_rules not change, plz note the following lines\n",
    "rules = get_rules(headers, bearer_token)\n",
    "delete = delete_all_rules(headers, bearer_token, rules)\n",
    "set1 = set_rules(headers, bearer_token, search_rules)"
   ]
  },
  {
   "cell_type": "code",
   "execution_count": 0,
   "metadata": {
    "application/vnd.databricks.v1+cell": {
     "inputWidgets": {},
     "nuid": "92ff0535-fcfb-406b-bce4-1f2f752d8bec",
     "showTitle": false,
     "title": ""
    }
   },
   "outputs": [],
   "source": [
    "TCP_IP = \"localhost\"\n",
    "TCP_PORT = 9017\n",
    "conn = None\n",
    "s = socket.socket(socket.AF_INET, socket.SOCK_STREAM)\n",
    "s.bind((TCP_IP, TCP_PORT))\n",
    "s.listen(1)\n",
    "print(\"Waiting for TCP connection...\")\n",
    "conn, addr = s.accept()\n",
    "print(\"Connected... Starting getting tweets.\")\n",
    "\n",
    "resp = get_stream(headers, bearer_token, expansions, media_fields)\n",
    "send_tweets_to_spark(resp, conn)\n",
    "s.close()\n",
    "conn.close()"
   ]
  }
 ],
 "metadata": {
  "application/vnd.databricks.v1+notebook": {
   "dashboards": [],
   "language": "python",
   "notebookMetadata": {
    "pythonIndentUnit": 4
   },
   "notebookName": "sender_new",
   "notebookOrigID": 453430745507783,
   "widgets": {}
  },
  "kernelspec": {
   "display_name": "Python 3",
   "language": "python",
   "name": "python3"
  },
  "language_info": {
   "codemirror_mode": {
    "name": "ipython",
    "version": 3
   },
   "file_extension": ".py",
   "mimetype": "text/x-python",
   "name": "python",
   "nbconvert_exporter": "python",
   "pygments_lexer": "ipython3",
   "version": "3.8.8"
  }
 },
 "nbformat": 4,
 "nbformat_minor": 1
}
